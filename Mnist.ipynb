{
 "cells": [
  {
   "cell_type": "code",
   "execution_count": 196,
   "metadata": {},
   "outputs": [],
   "source": [
    "import tensorflow as tf\n",
    "from keras import models, layers\n",
    "from keras.datasets import mnist\n",
    "(train_images,train_labels),(test_images,test_labels) = mnist.load_data()"
   ]
  },
  {
   "cell_type": "code",
   "execution_count": 197,
   "metadata": {},
   "outputs": [
    {
     "data": {
      "text/plain": [
       "(60000, 28, 28)"
      ]
     },
     "execution_count": 197,
     "metadata": {},
     "output_type": "execute_result"
    }
   ],
   "source": [
    "train_images.shape"
   ]
  },
  {
   "cell_type": "code",
   "execution_count": 198,
   "metadata": {},
   "outputs": [
    {
     "data": {
      "text/plain": [
       "60000"
      ]
     },
     "execution_count": 198,
     "metadata": {},
     "output_type": "execute_result"
    }
   ],
   "source": [
    "len(train_labels)"
   ]
  },
  {
   "cell_type": "code",
   "execution_count": 199,
   "metadata": {},
   "outputs": [
    {
     "data": {
      "text/plain": [
       "array([5, 0, 4, ..., 5, 6, 8], dtype=uint8)"
      ]
     },
     "execution_count": 199,
     "metadata": {},
     "output_type": "execute_result"
    }
   ],
   "source": [
    "train_labels"
   ]
  },
  {
   "cell_type": "code",
   "execution_count": 200,
   "metadata": {},
   "outputs": [
    {
     "data": {
      "text/plain": [
       "(10000, 28, 28)"
      ]
     },
     "execution_count": 200,
     "metadata": {},
     "output_type": "execute_result"
    }
   ],
   "source": [
    "test_images.shape"
   ]
  },
  {
   "cell_type": "code",
   "execution_count": 201,
   "metadata": {},
   "outputs": [
    {
     "data": {
      "text/plain": [
       "10000"
      ]
     },
     "execution_count": 201,
     "metadata": {},
     "output_type": "execute_result"
    }
   ],
   "source": [
    "len(test_labels)"
   ]
  },
  {
   "cell_type": "code",
   "execution_count": 202,
   "metadata": {},
   "outputs": [
    {
     "data": {
      "text/plain": [
       "array([7, 2, 1, ..., 4, 5, 6], dtype=uint8)"
      ]
     },
     "execution_count": 202,
     "metadata": {},
     "output_type": "execute_result"
    }
   ],
   "source": [
    "test_labels"
   ]
  },
  {
   "cell_type": "code",
   "execution_count": 203,
   "metadata": {},
   "outputs": [],
   "source": [
    "import matplotlib.pyplot as plt"
   ]
  },
  {
   "cell_type": "code",
   "execution_count": 204,
   "metadata": {},
   "outputs": [
    {
     "data": {
      "image/png": "[encoded data removed]",
      "text/plain": [
       "<Figure size 576x576 with 9 Axes>"
      ]
     },
     "metadata": {
      "needs_background": "light"
     },
     "output_type": "display_data"
    }
   ],
   "source": [
    "fig, axs = plt.subplots(3, 3, figsize=(8, 8))\n",
    "fig.subplots_adjust(hspace = .5, wspace=.001)\n",
    "axs = axs.ravel()\n",
    "for i in range(9):\n",
    "    axs[i].imshow(train_images[i], cmap='gray')\n",
    "    axs[i].set_title(\"Label = %d\" % train_labels[i])\n",
    "plt.show()"
   ]
  },
  {
   "attachments": {},
   "cell_type": "markdown",
   "metadata": {},
   "source": [
    "Model1"
   ]
  },
  {
   "cell_type": "code",
   "execution_count": 205,
   "metadata": {},
   "outputs": [],
   "source": [
    "model1=models.Sequential()\n",
    "model1.add(layers.Dense(512,activation='relu',input_shape=(28*28,)))\n",
    "model1.add(layers.Dense(10,activation='softmax'))"
   ]
  },
  {
   "cell_type": "code",
   "execution_count": 206,
   "metadata": {},
   "outputs": [],
   "source": [
    "model1.compile(optimizer='rmsprop',loss='categorical_crossentropy',metrics=['accuracy'])"
   ]
  },
  {
   "cell_type": "code",
   "execution_count": 207,
   "metadata": {},
   "outputs": [],
   "source": [
    "train_images1 = train_images.copy()\n",
    "train_labels1 = train_labels.copy()\n",
    "test_images1 = test_images.copy()\n",
    "\n",
    "train_images1=train_images1.reshape((60000,28*28))\n",
    "train_images1=train_images1.astype('float32')/255\n",
    "\n",
    "test_images1=test_images1.reshape((10000,28*28))\n",
    "test_images1=test_images1.astype('float32')/255"
   ]
  },
  {
   "cell_type": "code",
   "execution_count": 208,
   "metadata": {},
   "outputs": [],
   "source": [
    "from tensorflow.keras.utils import to_categorical\n",
    "train_labels1 = to_categorical(train_labels1)\n",
    "test_labels1 = to_categorical(test_labels)"
   ]
  },
  {
   "cell_type": "code",
   "execution_count": 209,
   "metadata": {},
   "outputs": [
    {
     "name": "stdout",
     "output_type": "stream",
     "text": [
      "Epoch 1/20\n",
      "469/469 [==============================] - 2s 5ms/step - loss: 0.2586 - accuracy: 0.9255\n",
      "Epoch 2/20\n",
      "469/469 [==============================] - 2s 5ms/step - loss: 0.1033 - accuracy: 0.9693\n",
      "Epoch 3/20\n",
      "469/469 [==============================] - 2s 4ms/step - loss: 0.0675 - accuracy: 0.9794\n",
      "Epoch 4/20\n",
      "469/469 [==============================] - 2s 4ms/step - loss: 0.0498 - accuracy: 0.9854\n",
      "Epoch 5/20\n",
      "469/469 [==============================] - 2s 4ms/step - loss: 0.0374 - accuracy: 0.9889\n",
      "Epoch 6/20\n",
      "469/469 [==============================] - 2s 4ms/step - loss: 0.0283 - accuracy: 0.9914\n",
      "Epoch 7/20\n",
      "469/469 [==============================] - 2s 4ms/step - loss: 0.0218 - accuracy: 0.9931\n",
      "Epoch 8/20\n",
      "469/469 [==============================] - 2s 4ms/step - loss: 0.0169 - accuracy: 0.9946\n",
      "Epoch 9/20\n",
      "469/469 [==============================] - 2s 3ms/step - loss: 0.0128 - accuracy: 0.9964\n",
      "Epoch 10/20\n",
      "469/469 [==============================] - 2s 4ms/step - loss: 0.0097 - accuracy: 0.9973\n",
      "Epoch 11/20\n",
      "469/469 [==============================] - 2s 4ms/step - loss: 0.0081 - accuracy: 0.9974\n",
      "Epoch 12/20\n",
      "469/469 [==============================] - 2s 4ms/step - loss: 0.0056 - accuracy: 0.9986\n",
      "Epoch 13/20\n",
      "469/469 [==============================] - 2s 4ms/step - loss: 0.0043 - accuracy: 0.9988\n",
      "Epoch 14/20\n",
      "469/469 [==============================] - 2s 4ms/step - loss: 0.0034 - accuracy: 0.9991\n",
      "Epoch 15/20\n",
      "469/469 [==============================] - 2s 4ms/step - loss: 0.0027 - accuracy: 0.9991\n",
      "Epoch 16/20\n",
      "469/469 [==============================] - 2s 4ms/step - loss: 0.0024 - accuracy: 0.9994\n",
      "Epoch 17/20\n",
      "469/469 [==============================] - 2s 3ms/step - loss: 0.0017 - accuracy: 0.9996\n",
      "Epoch 18/20\n",
      "469/469 [==============================] - 2s 3ms/step - loss: 0.0013 - accuracy: 0.9996\n",
      "Epoch 19/20\n",
      "469/469 [==============================] - 2s 4ms/step - loss: 9.7744e-04 - accuracy: 0.9997\n",
      "Epoch 20/20\n",
      "469/469 [==============================] - 2s 3ms/step - loss: 7.8277e-04 - accuracy: 0.9998\n"
     ]
    },
    {
     "data": {
      "text/plain": [
       "<tensorflow.python.keras.callbacks.History at 0x216bfdca860>"
      ]
     },
     "execution_count": 209,
     "metadata": {},
     "output_type": "execute_result"
    }
   ],
   "source": [
    "model1.fit(train_images1,train_labels1,epochs=20,batch_size=128)"
   ]
  },
  {
   "cell_type": "code",
   "execution_count": 210,
   "metadata": {},
   "outputs": [
    {
     "name": "stdout",
     "output_type": "stream",
     "text": [
      "313/313 [==============================] - 2s 5ms/step - loss: 0.0942 - accuracy: 0.9831\n",
      "test accuracy: 0.9830999970436096\n"
     ]
    }
   ],
   "source": [
    "test_loss, test_acc = model1.evaluate(test_images1,test_labels1)\n",
    "print(\"test accuracy:\",test_acc)"
   ]
  },
  {
   "attachments": {},
   "cell_type": "markdown",
   "metadata": {},
   "source": [
    "Model2"
   ]
  },
  {
   "cell_type": "code",
   "execution_count": 211,
   "metadata": {},
   "outputs": [],
   "source": [
    "model2 = models.Sequential()\n",
    "model2.add(layers.Conv2D(32, (3, 3), activation='relu', input_shape=(28, 28, 1)))\n",
    "model2.add(layers.MaxPooling2D((2, 2)))\n",
    "model2.add(layers.Conv2D(64, (3, 3), activation='relu'))\n",
    "model2.add(layers.MaxPooling2D((2, 2)))\n",
    "model2.add(layers.Conv2D(64, (3, 3), activation='relu'))\n",
    "model2.add(layers.Flatten())\n",
    "model2.add(layers.Dense(64, activation='relu'))\n",
    "model2.add(layers.Dense(10, activation='softmax'))\n"
   ]
  },
  {
   "cell_type": "code",
   "execution_count": 212,
   "metadata": {},
   "outputs": [],
   "source": [
    "model2.compile(optimizer='adam',\n",
    "               loss=tf.keras.losses.SparseCategoricalCrossentropy(from_logits=True),\n",
    "               metrics=['accuracy'])"
   ]
  },
  {
   "cell_type": "code",
   "execution_count": 213,
   "metadata": {},
   "outputs": [],
   "source": [
    "train_images2 = train_images.copy()\n",
    "train_labels2 = train_labels.copy()\n",
    "test_images2 = test_images.copy()\n",
    "\n",
    "train_images2 = train_images2.reshape(train_images2.shape[0], 28, 28, 1)\n",
    "train_images2 = train_images2.astype('float32') / 255\n",
    "test_images2 = test_images2.reshape(test_images2.shape[0], 28, 28, 1)\n",
    "test_images2 = test_images2.astype('float32') / 255\n",
    "train_labels2 = train_labels2.astype('float32')"
   ]
  },
  {
   "cell_type": "code",
   "execution_count": 214,
   "metadata": {},
   "outputs": [
    {
     "name": "stdout",
     "output_type": "stream",
     "text": [
      "Epoch 1/20\n",
      "469/469 [==============================] - 6s 13ms/step - loss: 1.7030 - accuracy: 0.7628\n",
      "Epoch 2/20\n",
      "469/469 [==============================] - 6s 12ms/step - loss: 1.4898 - accuracy: 0.9729\n",
      "Epoch 3/20\n",
      "469/469 [==============================] - 5s 12ms/step - loss: 1.4818 - accuracy: 0.9802\n",
      "Epoch 4/20\n",
      "469/469 [==============================] - 6s 13ms/step - loss: 1.4768 - accuracy: 0.9850 1s - ETA: 0s - loss: 1 - ETA: 0s - loss: 1.4768 - accura\n",
      "Epoch 5/20\n",
      "469/469 [==============================] - 6s 13ms/step - loss: 1.4746 - accuracy: 0.9869\n",
      "Epoch 6/20\n",
      "469/469 [==============================] - 6s 13ms/step - loss: 1.4733 - accuracy: 0.9883 \n",
      "Epoch 7/20\n",
      "469/469 [==============================] - 6s 13ms/step - loss: 1.4719 - accuracy: 0.9897\n",
      "Epoch 8/20\n",
      "469/469 [==============================] - 6s 12ms/step - loss: 1.4716 - accuracy: 0.9898\n",
      "Epoch 9/20\n",
      "469/469 [==============================] - 6s 12ms/step - loss: 1.4709 - accuracy: 0.9905\n",
      "Epoch 10/20\n",
      "469/469 [==============================] - 6s 12ms/step - loss: 1.4696 - accuracy: 0.9918\n",
      "Epoch 11/20\n",
      "469/469 [==============================] - 6s 12ms/step - loss: 1.4701 - accuracy: 0.9913\n",
      "Epoch 12/20\n",
      "469/469 [==============================] - 6s 12ms/step - loss: 1.4689 - accuracy: 0.9925\n",
      "Epoch 13/20\n",
      "469/469 [==============================] - 6s 13ms/step - loss: 1.4679 - accuracy: 0.9934A: 0s - loss: 1.467\n",
      "Epoch 14/20\n",
      "469/469 [==============================] - 6s 13ms/step - loss: 1.4689 - accuracy: 0.9923\n",
      "Epoch 15/20\n",
      "469/469 [==============================] - 6s 13ms/step - loss: 1.4677 - accuracy: 0.9936\n",
      "Epoch 16/20\n",
      "469/469 [==============================] - 6s 13ms/step - loss: 1.4674 - accuracy: 0.9940\n",
      "Epoch 17/20\n",
      "469/469 [==============================] - 6s 12ms/step - loss: 1.4667 - accuracy: 0.9944\n",
      "Epoch 18/20\n",
      "469/469 [==============================] - 6s 13ms/step - loss: 1.4677 - accuracy: 0.9937\n",
      "Epoch 19/20\n",
      "469/469 [==============================] - 6s 12ms/step - loss: 1.4663 - accuracy: 0.9950\n",
      "Epoch 20/20\n",
      "469/469 [==============================] - 6s 12ms/step - loss: 1.4667 - accuracy: 0.9946\n"
     ]
    },
    {
     "data": {
      "text/plain": [
       "<tensorflow.python.keras.callbacks.History at 0x216b9c9dda0>"
      ]
     },
     "execution_count": 214,
     "metadata": {},
     "output_type": "execute_result"
    }
   ],
   "source": [
    "train_images2 = train_images2.reshape(train_images2.shape[0], 28, 28, 1)\n",
    "\n",
    "model2.fit(train_images2,train_labels2,epochs=20,batch_size=128)"
   ]
  },
  {
   "cell_type": "code",
   "execution_count": 215,
   "metadata": {},
   "outputs": [
    {
     "name": "stdout",
     "output_type": "stream",
     "text": [
      "313/313 [==============================] - 2s 5ms/step - loss: 1.4709 - accuracy: 0.9901\n",
      "test accuracy: 0.9901000261306763\n"
     ]
    }
   ],
   "source": [
    "test_loss2, test_acc2 = model2.evaluate(test_images2,test_labels)\n",
    "print(\"test accuracy:\",test_acc2)"
   ]
  },
  {
   "cell_type": "code",
   "execution_count": 223,
   "metadata": {},
   "outputs": [],
   "source": [
    "from tensorflow.keras.layers import Input\n",
    "from tensorflow.keras.applications import ResNet50\n",
    "from tensorflow.keras.models import Model"
   ]
  },
  {
   "cell_type": "code",
   "execution_count": 224,
   "metadata": {},
   "outputs": [],
   "source": [
    "input_tensor = Input(shape=(28, 28, 1))"
   ]
  },
  {
   "cell_type": "code",
   "execution_count": 225,
   "metadata": {},
   "outputs": [],
   "source": [
    "base_model = ResNet50(include_top=False, weights=None, input_tensor=input_tensor)\n",
    "x = base_model.output\n",
    "x = tf.keras.layers.Flatten()(x)\n",
    "x = tf.keras.layers.Dense(64, activation='relu')(x)\n",
    "predictions = tf.keras.layers.Dense(10, activation='softmax')(x)\n",
    "model3 = Model(inputs=base_model.input, outputs=predictions)"
   ]
  },
  {
   "cell_type": "code",
   "execution_count": 226,
   "metadata": {},
   "outputs": [],
   "source": [
    "model3.compile(optimizer='adam', loss='categorical_crossentropy', metrics=['accuracy'])"
   ]
  },
  {
   "cell_type": "code",
   "execution_count": 227,
   "metadata": {},
   "outputs": [],
   "source": [
    "train_images3 = train_images.reshape(train_images.shape[0], 28, 28, 1)\n",
    "test_images3 = test_images.reshape(test_images.shape[0], 28, 28, 1)\n",
    "train_images3 = train_images3.astype('float32') / 255\n",
    "test_images3 = test_images3.astype('float32') / 255\n",
    "\n",
    "train_labels3 = to_categorical(train_labels)\n",
    "test_labels3 = to_categorical(test_labels)"
   ]
  },
  {
   "cell_type": "code",
   "execution_count": 228,
   "metadata": {},
   "outputs": [
    {
     "name": "stdout",
     "output_type": "stream",
     "text": [
      "Epoch 1/20\n",
      "  2/469 [..............................] - ETA: 1:43 - loss: 3.6527 - accuracy: 0.0938WARNING:tensorflow:Callbacks method `on_train_batch_end` is slow compared to the batch time (batch time: 0.0730s vs `on_train_batch_end` time: 0.1280s). Check your callbacks.\n",
      "469/469 [==============================] - 94s 201ms/step - loss: 0.2882 - accuracy: 0.9143 - val_loss: 1.8555 - val_accuracy: 0.4700\n",
      "Epoch 2/20\n",
      "469/469 [==============================] - 94s 200ms/step - loss: 0.0715 - accuracy: 0.9793 - val_loss: 0.1114 - val_accuracy: 0.9688\n",
      "Epoch 3/20\n",
      "469/469 [==============================] - 94s 201ms/step - loss: 0.0502 - accuracy: 0.9855 - val_loss: 0.0800 - val_accuracy: 0.9785\n",
      "Epoch 4/20\n",
      "469/469 [==============================] - 95s 202ms/step - loss: 0.0413 - accuracy: 0.9880 - val_loss: 0.0678 - val_accuracy: 0.9817\n",
      "Epoch 5/20\n",
      "469/469 [==============================] - 95s 202ms/step - loss: 0.0330 - accuracy: 0.9903 - val_loss: 0.1121 - val_accuracy: 0.9710\n",
      "Epoch 6/20\n",
      "469/469 [==============================] - 95s 202ms/step - loss: 0.0324 - accuracy: 0.9903 - val_loss: 0.0656 - val_accuracy: 0.9820\n",
      "Epoch 7/20\n",
      "469/469 [==============================] - 95s 202ms/step - loss: 0.0333 - accuracy: 0.9902 - val_loss: 0.0453 - val_accuracy: 0.9874\n",
      "Epoch 8/20\n",
      "469/469 [==============================] - 95s 202ms/step - loss: 0.0300 - accuracy: 0.9912 - val_loss: 0.0495 - val_accuracy: 0.9867\n",
      "Epoch 9/20\n",
      "469/469 [==============================] - 95s 203ms/step - loss: 0.0265 - accuracy: 0.9922 - val_loss: 0.1335 - val_accuracy: 0.9674\n",
      "Epoch 10/20\n",
      "469/469 [==============================] - 101s 216ms/step - loss: 0.0298 - accuracy: 0.9912 - val_loss: 0.0683 - val_accuracy: 0.9820\n",
      "Epoch 11/20\n",
      "469/469 [==============================] - 122s 260ms/step - loss: 0.0256 - accuracy: 0.9926 - val_loss: 0.0536 - val_accuracy: 0.9856\n",
      "Epoch 12/20\n",
      "469/469 [==============================] - 127s 270ms/step - loss: 0.0313 - accuracy: 0.9914 - val_loss: 0.0537 - val_accuracy: 0.9857\n",
      "Epoch 13/20\n",
      "469/469 [==============================] - 132s 282ms/step - loss: 0.0427 - accuracy: 0.9889 - val_loss: 0.0429 - val_accuracy: 0.9871\n",
      "Epoch 14/20\n",
      "469/469 [==============================] - 141s 301ms/step - loss: 0.0246 - accuracy: 0.9930 - val_loss: 0.0470 - val_accuracy: 0.9885\n",
      "Epoch 15/20\n",
      "469/469 [==============================] - 154s 329ms/step - loss: 0.0241 - accuracy: 0.9935 - val_loss: 0.0442 - val_accuracy: 0.9875\n",
      "Epoch 16/20\n",
      "469/469 [==============================] - 167s 355ms/step - loss: 0.0228 - accuracy: 0.9938 - val_loss: 0.0718 - val_accuracy: 0.9809\n",
      "Epoch 17/20\n",
      "469/469 [==============================] - 166s 353ms/step - loss: 0.0230 - accuracy: 0.9937 - val_loss: 0.0463 - val_accuracy: 0.9871\n",
      "Epoch 18/20\n",
      "469/469 [==============================] - 186s 397ms/step - loss: 0.0228 - accuracy: 0.9937 - val_loss: 0.2425 - val_accuracy: 0.9391\n",
      "Epoch 19/20\n",
      "469/469 [==============================] - 173s 369ms/step - loss: 0.0215 - accuracy: 0.9940 - val_loss: 0.0577 - val_accuracy: 0.9860\n",
      "Epoch 20/20\n",
      "469/469 [==============================] - 170s 362ms/step - loss: 0.0262 - accuracy: 0.9928 - val_loss: 0.0621 - val_accuracy: 0.9857\n"
     ]
    },
    {
     "data": {
      "text/plain": [
       "<tensorflow.python.keras.callbacks.History at 0x216bf9a71d0>"
      ]
     },
     "execution_count": 228,
     "metadata": {},
     "output_type": "execute_result"
    }
   ],
   "source": [
    "model3.fit(train_images3, train_labels3, epochs=20, batch_size=128, validation_data=(test_images3, test_labels3))"
   ]
  },
  {
   "cell_type": "code",
   "execution_count": 229,
   "metadata": {},
   "outputs": [
    {
     "name": "stdout",
     "output_type": "stream",
     "text": [
      "313/313 [==============================] - 1s 4ms/step - loss: 1.4709 - accuracy: 0.9901\n",
      "test accuracy: 0.9901000261306763\n"
     ]
    }
   ],
   "source": [
    "test_loss3, test_acc3 = model2.evaluate(test_images3,test_labels)\n",
    "print(\"test accuracy:\",test_acc3)"
   ]
  },
  {
   "cell_type": "code",
   "execution_count": null,
   "metadata": {},
   "outputs": [],
   "source": []
  }
 ],
 "metadata": {
  "kernelspec": {
   "display_name": "workspace",
   "language": "python",
   "name": "python3"
  },
  "language_info": {
   "codemirror_mode": {
    "name": "ipython",
    "version": 3
   },
   "file_extension": ".py",
   "mimetype": "text/x-python",
   "name": "python",
   "nbconvert_exporter": "python",
   "pygments_lexer": "ipython3",
   "version": "3.6.12"
  },
  "orig_nbformat": 4
 },
 "nbformat": 4,
 "nbformat_minor": 2
}
